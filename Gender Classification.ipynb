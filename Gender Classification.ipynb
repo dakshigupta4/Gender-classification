{
 "cells": [
  {
   "cell_type": "code",
   "execution_count": 1,
   "metadata": {},
   "outputs": [
    {
     "name": "stdout",
     "output_type": "stream",
     "text": [
      "{'female': 0, 'male': 1}\n",
      "['female', 'male']\n",
      "[0, 1]\n"
     ]
    }
   ],
   "source": [
    "import cv2\n",
    "import os\n",
    "\n",
    "data_path='Validation'\n",
    "categories=os.listdir(data_path)\n",
    "labels=[i for i in range(len(categories))]\n",
    "\n",
    "label_dict=dict(zip(categories,labels))\n",
    "\n",
    "print(label_dict)\n",
    "print(categories)\n",
    "print(labels)"
   ]
  },
  {
   "cell_type": "code",
   "execution_count": 2,
   "metadata": {},
   "outputs": [],
   "source": [
    "img_size=32\n",
    "data=[]\n",
    "target=[]\n",
    "\n",
    "facedata = \"haarcascade_frontalface_default.xml\"\n",
    "cascade = cv2.CascadeClassifier(facedata)\n",
    "\n",
    "\n",
    "for category in categories:\n",
    "    folder_path=os.path.join(data_path,category)\n",
    "    img_names=os.listdir(folder_path)\n",
    "        \n",
    "    for img_name in img_names:\n",
    "        img_path=os.path.join(folder_path,img_name)\n",
    "        img=cv2.imread(img_path)\n",
    "        faces = cascade.detectMultiScale(img)\n",
    "        try:\n",
    "            for f in faces:\n",
    "                x, y, w, h = [v for v in f]\n",
    "                sub_face = img[y:y + h, x:x + w]\n",
    "                gray=cv2.cvtColor(sub_face,cv2.COLOR_BGR2GRAY)           \n",
    "                resized=cv2.resize(gray,(img_size,img_size))#some images are small and big(32 by 32)\n",
    "                data.append(resized)\n",
    "                target.append(label_dict[category])\n",
    "        except Exception as e:#forget to use libraries\n",
    "            print('Exception:',e)"
   ]
  },
  {
   "cell_type": "code",
   "execution_count": 3,
   "metadata": {},
   "outputs": [],
   "source": [
    "import numpy as np\n",
    "import warnings\n",
    "warnings.filterwarnings('ignore')\n",
    "data=np.array(data)/255.0#image converted into 0 and 1\n",
    "data=np.reshape(data,(data.shape[0],img_size,img_size,1))\n",
    "target=np.array(target)\n",
    "\n",
    "from keras.utils import np_utils\n",
    "\n",
    "new_target=np_utils.to_categorical(target)#is used to convert array of labeled data(from 0 to nb_classes - 1) to one-hot vector.\n",
    "\n",
    "np.save('./training/data',data)\n",
    "np.save('./training/target',new_target)\n",
    "\n"
   ]
  },
  {
   "cell_type": "code",
   "execution_count": 4,
   "metadata": {},
   "outputs": [],
   "source": [
    "import numpy as np\n",
    "\n",
    "data=np.load('./training/data.npy')\n",
    "target=np.load('./training/target.npy')"
   ]
  },
  {
   "cell_type": "code",
   "execution_count": 5,
   "metadata": {},
   "outputs": [],
   "source": [
    "#create model\n",
    "from keras.models import Sequential\n",
    "from keras.layers import Dense,Activation,Flatten,Dropout\n",
    "from keras.layers import Conv2D,MaxPooling2D\n",
    "from keras.callbacks import ModelCheckpoint\n",
    "\n",
    "\n",
    "noOfFilters=64\n",
    "sizeOfFilter1=(3,3)\n",
    "sizeOfFilter2=(3,3)\n",
    "sizeOfPool=(2,2)#to reduce the resolution of the feature\n",
    "noOfNode=64\n",
    "\n",
    "\n",
    "#Conv2d is the number of filters that the convolutional layer will lear\n",
    "model=Sequential()\n",
    "model.add((Conv2D(32, sizeOfFilter1, input_shape=data.shape[1:],activation='relu')))#shape because we are convert data into numpy\n",
    "model.add((Conv2D(32, sizeOfFilter1,activation='relu')))\n",
    "model.add(MaxPooling2D(pool_size=sizeOfPool))\n",
    "\n",
    "model.add((Conv2D(64, sizeOfFilter2,activation='relu')))\n",
    "model.add((Conv2D(64, sizeOfFilter2,activation='relu')))\n",
    "model.add(MaxPooling2D(pool_size=sizeOfPool))\n",
    "model.add(Dropout(0.5))\n",
    "\n",
    "\n",
    "model.add(Flatten())\n",
    "model.add(Dense(noOfNode, activation='relu'))\n",
    "model.add(Dropout(0.5))\n",
    "model.add(Dense(2, activation='softmax'))\n",
    "#flatten for converting the data into a 1-dimensional array for inputting it to the next layer\n",
    "#softmax is as the activation function in the output layer of neural network models\n",
    "\n",
    "model.compile(loss='categorical_crossentropy',optimizer='adam',metrics=['accuracy'])"
   ]
  },
  {
   "cell_type": "code",
   "execution_count": 6,
   "metadata": {},
   "outputs": [],
   "source": [
    "from sklearn.model_selection import train_test_split\n",
    "\n",
    "train_data,test_data,train_target,test_target=train_test_split(data,target,test_size=0.1)"
   ]
  },
  {
   "cell_type": "code",
   "execution_count": 7,
   "metadata": {},
   "outputs": [
    {
     "name": "stdout",
     "output_type": "stream",
     "text": [
      "Epoch 1/20\n",
      "91/92 [============================>.] - ETA: 0s - loss: 0.6926 - accuracy: 0.5196INFO:tensorflow:Assets written to: ./training\\model-001.model\\assets\n",
      "92/92 [==============================] - 17s 149ms/step - loss: 0.6924 - accuracy: 0.5210 - val_loss: 0.6847 - val_accuracy: 0.5171\n",
      "Epoch 2/20\n",
      "91/92 [============================>.] - ETA: 0s - loss: 0.6269 - accuracy: 0.6356 ETA: 1s - loss:INFO:tensorflow:Assets written to: ./training\\model-002.model\\assets\n",
      "92/92 [==============================] - 12s 129ms/step - loss: 0.6264 - accuracy: 0.6363 - val_loss: 0.4466 - val_accuracy: 0.8276\n",
      "Epoch 3/20\n",
      "91/92 [============================>.] - ETA: 0s - loss: 0.4251 - accuracy: 0.8293INFO:tensorflow:Assets written to: ./training\\model-003.model\\assets\n",
      "92/92 [==============================] - 13s 137ms/step - loss: 0.4256 - accuracy: 0.8293 - val_loss: 0.2991 - val_accuracy: 0.8906\n",
      "Epoch 4/20\n",
      "92/92 [==============================] - ETA: 0s - loss: 0.3209 - accuracy: 0.8775INFO:tensorflow:Assets written to: ./training\\model-004.model\\assets\n",
      "92/92 [==============================] - 11s 116ms/step - loss: 0.3209 - accuracy: 0.8775 - val_loss: 0.2306 - val_accuracy: 0.9097\n",
      "Epoch 5/20\n",
      "91/92 [============================>.] - ETA: 0s - loss: 0.2577 - accuracy: 0.9117INFO:tensorflow:Assets written to: ./training\\model-005.model\\assets\n",
      "92/92 [==============================] - 11s 116ms/step - loss: 0.2574 - accuracy: 0.9121 - val_loss: 0.2171 - val_accuracy: 0.9179\n",
      "Epoch 6/20\n",
      "91/92 [============================>.] - ETA: 0s - loss: 0.2062 - accuracy: 0.9293 ETA: 3s - loss: 0INFO:tensorflow:Assets written to: ./training\\model-006.model\\assets\n",
      "92/92 [==============================] - 11s 116ms/step - loss: 0.2065 - accuracy: 0.9288 - val_loss: 0.1817 - val_accuracy: 0.9398\n",
      "Epoch 7/20\n",
      "91/92 [============================>.] - ETA: 0s - loss: 0.1880 - accuracy: 0.9317INFO:tensorflow:Assets written to: ./training\\model-007.model\\assets\n",
      "92/92 [==============================] - 11s 116ms/step - loss: 0.1875 - accuracy: 0.9319 - val_loss: 0.1695 - val_accuracy: 0.9439\n",
      "Epoch 8/20\n",
      "91/92 [============================>.] - ETA: 0s - loss: 0.1726 - accuracy: 0.9406INFO:tensorflow:Assets written to: ./training\\model-008.model\\assets\n",
      "92/92 [==============================] - 11s 117ms/step - loss: 0.1734 - accuracy: 0.9405 - val_loss: 0.1589 - val_accuracy: 0.9453\n",
      "Epoch 9/20\n",
      "92/92 [==============================] - 9s 103ms/step - loss: 0.1787 - accuracy: 0.9381 - val_loss: 0.1973 - val_accuracy: 0.9234\n",
      "Epoch 10/20\n",
      "92/92 [==============================] - ETA: 0s - loss: 0.1570 - accuracy: 0.9480INFO:tensorflow:Assets written to: ./training\\model-010.model\\assets\n",
      "92/92 [==============================] - 12s 130ms/step - loss: 0.1570 - accuracy: 0.9480 - val_loss: 0.1458 - val_accuracy: 0.9549\n",
      "Epoch 11/20\n",
      "92/92 [==============================] - 10s 111ms/step - loss: 0.1445 - accuracy: 0.9535 - val_loss: 0.1475 - val_accuracy: 0.9466\n",
      "Epoch 12/20\n",
      "91/92 [============================>.] - ETA: 0s - loss: 0.1247 - accuracy: 0.9543INFO:tensorflow:Assets written to: ./training\\model-012.model\\assets\n",
      "92/92 [==============================] - 12s 131ms/step - loss: 0.1242 - accuracy: 0.9545 - val_loss: 0.1412 - val_accuracy: 0.9549\n",
      "Epoch 13/20\n",
      "92/92 [==============================] - 9s 99ms/step - loss: 0.1305 - accuracy: 0.9521 - val_loss: 0.1429 - val_accuracy: 0.9466\n",
      "Epoch 14/20\n",
      "92/92 [==============================] - 11s 118ms/step - loss: 0.1089 - accuracy: 0.9624 - val_loss: 0.1540 - val_accuracy: 0.9439\n",
      "Epoch 15/20\n",
      "92/92 [==============================] - 10s 113ms/step - loss: 0.1029 - accuracy: 0.9617 - val_loss: 0.1582 - val_accuracy: 0.9425\n",
      "Epoch 16/20\n",
      "92/92 [==============================] - 10s 113ms/step - loss: 0.1011 - accuracy: 0.9610 - val_loss: 0.1472 - val_accuracy: 0.9453\n",
      "Epoch 17/20\n",
      "92/92 [==============================] - 11s 116ms/step - loss: 0.0886 - accuracy: 0.9651 - val_loss: 0.1495 - val_accuracy: 0.9466\n",
      "Epoch 18/20\n",
      "91/92 [============================>.] - ETA: 0s - loss: 0.0841 - accuracy: 0.9691INFO:tensorflow:Assets written to: ./training\\model-018.model\\assets\n",
      "92/92 [==============================] - 12s 133ms/step - loss: 0.0839 - accuracy: 0.9692 - val_loss: 0.1349 - val_accuracy: 0.9521\n",
      "Epoch 19/20\n",
      "92/92 [==============================] - 10s 104ms/step - loss: 0.0884 - accuracy: 0.9661 - val_loss: 0.1597 - val_accuracy: 0.9425\n",
      "Epoch 20/20\n",
      "92/92 [==============================] - 10s 106ms/step - loss: 0.0845 - accuracy: 0.9706 - val_loss: 0.1491 - val_accuracy: 0.9535\n"
     ]
    }
   ],
   "source": [
    "checkpoint = ModelCheckpoint('./training/model-{epoch:03d}.model',monitor='val_loss',verbose=0,save_best_only=True,mode='auto')\n",
    "history=model.fit(train_data,train_target,epochs=20,callbacks=[checkpoint],validation_split=0.2)\n",
    "#checkpoint is the weights of the model. These weights can be used to make predictions as is, or used as the basis for \n",
    "#ongoing training"
   ]
  },
  {
   "cell_type": "code",
   "execution_count": 8,
   "metadata": {},
   "outputs": [],
   "source": [
    "from keras.models import load_model\n",
    "import cv2\n",
    "import numpy as np"
   ]
  },
  {
   "cell_type": "code",
   "execution_count": 9,
   "metadata": {},
   "outputs": [],
   "source": [
    "model = load_model('./training/model-007.model')\n",
    "\n",
    "face_clsfr=cv2.CascadeClassifier('haarcascade_frontalface_default.xml')\n",
    "\n",
    "cap=cv2.VideoCapture(0)\n",
    "\n",
    "labels_dict={0:'Male',1:'Female'}\n",
    "color_dict={0:(0,0,255),1:(0,255,0)}"
   ]
  },
  {
   "cell_type": "code",
   "execution_count": null,
   "metadata": {},
   "outputs": [],
   "source": [
    "while(True):\n",
    "\n",
    "    ret,img=cap.read()\n",
    "    gray=cv2.cvtColor(img,cv2.COLOR_BGR2GRAY)\n",
    "    faces=face_clsfr.detectMultiScale(gray,1.3,3)  \n",
    "#detectMultiScale is function which help us to find the features/locations of the new image\n",
    "    for (x,y,w,h) in faces:\n",
    "    \n",
    "        face_img=gray[y:y+w,x:x+w]\n",
    "        resized=cv2.resize(face_img,(32,32))\n",
    "        normalized=resized/255.0\n",
    "        reshaped=np.reshape(normalized,(1,32,32,1))\n",
    "        result=model.predict(reshaped)\n",
    "\n",
    "        label=np.argmax(result,axis=1)[0]\n",
    "      \n",
    "        cv2.rectangle(img,(x,y),(x+w,y+h),color_dict[label],2)\n",
    "        cv2.rectangle(img,(x,y-40),(x+w,y),color_dict[label],-1)\n",
    "        cv2.putText(img, labels_dict[label], (x, y-10),cv2.FONT_HERSHEY_SIMPLEX,0.8,(255,255,255),2)\n",
    "        \n",
    "        \n",
    "    cv2.imshow('Result',img)\n",
    "    k=cv2.waitKey(1)\n",
    "    \n",
    "    if k==ord(\"q\"):\n",
    "        break\n",
    "        \n",
    "cv2.destroyAllWindows()\n",
    "cap.release()"
   ]
  },
  {
   "cell_type": "code",
   "execution_count": null,
   "metadata": {},
   "outputs": [],
   "source": []
  },
  {
   "cell_type": "code",
   "execution_count": null,
   "metadata": {},
   "outputs": [],
   "source": []
  },
  {
   "cell_type": "code",
   "execution_count": null,
   "metadata": {},
   "outputs": [],
   "source": [
    "\n"
   ]
  },
  {
   "cell_type": "code",
   "execution_count": null,
   "metadata": {},
   "outputs": [],
   "source": []
  }
 ],
 "metadata": {
  "kernelspec": {
   "display_name": "Python 3",
   "language": "python",
   "name": "python3"
  },
  "language_info": {
   "codemirror_mode": {
    "name": "ipython",
    "version": 3
   },
   "file_extension": ".py",
   "mimetype": "text/x-python",
   "name": "python",
   "nbconvert_exporter": "python",
   "pygments_lexer": "ipython3",
   "version": "3.8.3"
  }
 },
 "nbformat": 4,
 "nbformat_minor": 4
}
